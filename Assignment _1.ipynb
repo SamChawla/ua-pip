{
 "cells": [
  {
   "cell_type": "markdown",
   "metadata": {
    "collapsed": true
   },
   "source": [
    "# Assignment 1 Solutions"
   ]
  },
  {
   "cell_type": "code",
   "execution_count": 1,
   "metadata": {
    "collapsed": false
   },
   "outputs": [
    {
     "name": "stdout",
     "output_type": "stream",
     "text": [
      "Hello , world\n",
      "Hello , world\n",
      "Hello , world\n"
     ]
    }
   ],
   "source": [
    "# Q.1 Is the output for below three statements same?\n",
    "\n",
    "print('Hello , world')\n",
    "print(\"Hello , world\")\n",
    "print ('''Hello , world''')"
   ]
  },
  {
   "cell_type": "code",
   "execution_count": 2,
   "metadata": {
    "collapsed": false
   },
   "outputs": [
    {
     "name": "stdout",
     "output_type": "stream",
     "text": [
      "2+6\n",
      "8\n"
     ]
    }
   ],
   "source": [
    "# Q.2 What is the output of the two print command given below? \n",
    "# Identify the difference between the two. \n",
    "\n",
    "print(\"2+6\")\n",
    "print(2+6)"
   ]
  },
  {
   "cell_type": "code",
   "execution_count": null,
   "metadata": {
    "collapsed": true
   },
   "outputs": [],
   "source": []
  }
 ],
 "metadata": {
  "kernelspec": {
   "display_name": "Python 3",
   "language": "python",
   "name": "python3"
  },
  "language_info": {
   "codemirror_mode": {
    "name": "ipython",
    "version": 3
   },
   "file_extension": ".py",
   "mimetype": "text/x-python",
   "name": "python",
   "nbconvert_exporter": "python",
   "pygments_lexer": "ipython3",
   "version": "3.6.0"
  }
 },
 "nbformat": 4,
 "nbformat_minor": 2
}
