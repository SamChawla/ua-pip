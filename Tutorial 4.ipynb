{
 "cells": [
  {
   "cell_type": "markdown",
   "metadata": {
    "collapsed": true
   },
   "source": [
    "#                     Basic Mathematical Operations "
   ]
  },
  {
   "cell_type": "code",
   "execution_count": 5,
   "metadata": {
    "collapsed": false
   },
   "outputs": [
    {
     "name": "stdout",
     "output_type": "stream",
     "text": [
      "Addition: 11\n",
      "Subtraction: 3\n",
      "Multiplication: 28\n",
      "Normal Division: 1.75\n",
      "Floor Division/Quotient: 1\n",
      "Modulo or 'mod' Operator(Gives Remainder): 3\n",
      "a^b: 2401\n",
      "Expression a*2+b/3 result : 15.333333333333334\n"
     ]
    }
   ],
   "source": [
    "a = 7\n",
    "b = 4\n",
    "print(f\"Addition: {a+b}\") \n",
    "print(f\"Subtraction: {a-b}\")     \n",
    "print(f\"Multiplication: {a*b}\")     \n",
    "print(f\"Normal Division: {a/b}\")    \n",
    "print(f\"Floor Division/Quotient: {a//b}\") \n",
    "print(f\"Modulo or 'mod' Operator(Gives Remainder): {a%b}\")\n",
    "print(f\"a^b: {a**b}\")\n",
    "print(f\"Expression a*2+b/3 result : {a*2+b/3}\") "
   ]
  },
  {
   "cell_type": "markdown",
   "metadata": {
    "collapsed": false
   },
   "source": [
    "# Comparison Operators\n",
    "###### These operators compare the values on either sides of them and decide the relation among them. They are also called Relational operators."
   ]
  },
  {
   "cell_type": "code",
   "execution_count": 5,
   "metadata": {
    "collapsed": false
   },
   "outputs": [
    {
     "name": "stdout",
     "output_type": "stream",
     "text": [
      "x == y : False\n",
      "x != y : True\n",
      "x  > y : True\n",
      "x  < y : False\n",
      "x >= y : True\n",
      "x <= y : False\n"
     ]
    }
   ],
   "source": [
    "x = 3\n",
    "y = 2\n",
    "print(f\"x == y : {x==y}\")\n",
    "print(f\"x != y : {x!=y}\")\n",
    "print(f\"x  > y : {x>y}\")\n",
    "print(f\"x  < y : {x<y}\")\n",
    "print(f\"x >= y : {x>=y}\")\n",
    "print(f\"x <= y : {x<=y}\")"
   ]
  },
  {
   "cell_type": "markdown",
   "metadata": {},
   "source": [
    "## Finding Area of a circle"
   ]
  },
  {
   "cell_type": "code",
   "execution_count": 10,
   "metadata": {
    "collapsed": false
   },
   "outputs": [],
   "source": [
    "from math import pi\n",
    "def area(radius):\n",
    "    return pi *(radius**2)"
   ]
  },
  {
   "cell_type": "code",
   "execution_count": 18,
   "metadata": {
    "collapsed": false
   },
   "outputs": [],
   "source": [
    "Area = area(2)\n",
    "Area = float(\"%.2f\"%Area)"
   ]
  },
  {
   "cell_type": "code",
   "execution_count": 19,
   "metadata": {
    "collapsed": false
   },
   "outputs": [
    {
     "data": {
      "text/plain": [
       "12.57"
      ]
     },
     "execution_count": 19,
     "metadata": {},
     "output_type": "execute_result"
    }
   ],
   "source": [
    "Area"
   ]
  },
  {
   "cell_type": "code",
   "execution_count": 20,
   "metadata": {
    "collapsed": false
   },
   "outputs": [
    {
     "name": "stdout",
     "output_type": "stream",
     "text": [
      "12.57\n"
     ]
    }
   ],
   "source": [
    "print(\"{:.2f}\".format(Area))"
   ]
  },
  {
   "cell_type": "markdown",
   "metadata": {
    "collapsed": false
   },
   "source": [
    "### String Slicing"
   ]
  },
  {
   "cell_type": "code",
   "execution_count": 26,
   "metadata": {
    "collapsed": false
   },
   "outputs": [],
   "source": [
    "text = \"HELLO\""
   ]
  },
  {
   "cell_type": "code",
   "execution_count": 27,
   "metadata": {
    "collapsed": false
   },
   "outputs": [
    {
     "name": "stdout",
     "output_type": "stream",
     "text": [
      "H\n",
      "O\n",
      "HE\n",
      "HELLO\n",
      "HLO\n"
     ]
    }
   ],
   "source": [
    "# [start:stop+1:difference]\n",
    "print(text[0])\n",
    "print(text[-1])\n",
    "print(text[0:2])\n",
    "print(text[:])\n",
    "print(text[::2])"
   ]
  },
  {
   "cell_type": "markdown",
   "metadata": {
    "collapsed": true
   },
   "source": [
    "### Reversing a String"
   ]
  },
  {
   "cell_type": "code",
   "execution_count": 25,
   "metadata": {
    "collapsed": false
   },
   "outputs": [
    {
     "name": "stdout",
     "output_type": "stream",
     "text": [
      "OLLEH\n"
     ]
    }
   ],
   "source": [
    "text = \"HELLO\"\n",
    "rev_text = text[::-1]\n",
    "\n",
    "print(rev_text)"
   ]
  }
 ],
 "metadata": {
  "kernelspec": {
   "display_name": "Python 3",
   "language": "python",
   "name": "python3"
  },
  "language_info": {
   "codemirror_mode": {
    "name": "ipython",
    "version": 3
   },
   "file_extension": ".py",
   "mimetype": "text/x-python",
   "name": "python",
   "nbconvert_exporter": "python",
   "pygments_lexer": "ipython3",
   "version": "3.6.0"
  }
 },
 "nbformat": 4,
 "nbformat_minor": 2
}
