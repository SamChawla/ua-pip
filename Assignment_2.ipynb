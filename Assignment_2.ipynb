{
 "cells": [
  {
   "cell_type": "markdown",
   "metadata": {},
   "source": [
    "## Print out the below output using single print statement.\n",
    "\n",
    "### Input : name\n",
    "\n",
    "### Output: \n",
    "\n",
    "Hello name,\n",
    "\n",
    "Welcome to the world of programming in python."
   ]
  },
  {
   "cell_type": "code",
   "execution_count": 8,
   "metadata": {
    "collapsed": false
   },
   "outputs": [
    {
     "name": "stdout",
     "output_type": "stream",
     "text": [
      "Enter your name: sam\n",
      "Hello sam,\n",
      "Welcome to the world of programming in python.\n"
     ]
    }
   ],
   "source": [
    "# Solution 1\n",
    "name = input(\"Enter your name: \")\n",
    "\n",
    "print(\"Hello \" + name + \",\\n\" + \"Welcome to the world of programming in python.\")"
   ]
  },
  {
   "cell_type": "code",
   "execution_count": 10,
   "metadata": {
    "collapsed": false
   },
   "outputs": [
    {
     "name": "stdout",
     "output_type": "stream",
     "text": [
      "Enter your name: sam\n",
      "Hello sam,\n",
      "Welcome to the world of programming in python.\n"
     ]
    }
   ],
   "source": [
    "# Solution 2\n",
    "name = input(\"Enter your name: \")\n",
    "\n",
    "print(\"Hello \" , name , \",\\n\" , \"Welcome to the world of programming in python.\",sep = '')"
   ]
  },
  {
   "cell_type": "code",
   "execution_count": 11,
   "metadata": {
    "collapsed": false
   },
   "outputs": [
    {
     "name": "stdout",
     "output_type": "stream",
     "text": [
      "Enter your name: sam\n",
      "Hello sam,\n",
      "Welcome to the world of programming in python.\n"
     ]
    }
   ],
   "source": [
    "# Solution 3\n",
    "name = input(\"Enter your name: \")\n",
    "\n",
    "print(f\"Hello {name},\\nWelcome to the world of programming in python.\")"
   ]
  },
  {
   "cell_type": "code",
   "execution_count": null,
   "metadata": {
    "collapsed": true
   },
   "outputs": [],
   "source": []
  }
 ],
 "metadata": {
  "kernelspec": {
   "display_name": "Python 3",
   "language": "python",
   "name": "python3"
  },
  "language_info": {
   "codemirror_mode": {
    "name": "ipython",
    "version": 3
   },
   "file_extension": ".py",
   "mimetype": "text/x-python",
   "name": "python",
   "nbconvert_exporter": "python",
   "pygments_lexer": "ipython3",
   "version": "3.6.0"
  }
 },
 "nbformat": 4,
 "nbformat_minor": 2
}
