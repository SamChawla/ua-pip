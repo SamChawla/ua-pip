{
 "cells": [
  {
   "cell_type": "markdown",
   "metadata": {},
   "source": [
    "<b> Given Principle, Rate and Time, Find the Simple Interest.</b>\n",
    "\n",
    "<b>Input</b>:<br/> P = Integer value (e.g. 1200) <br/>\n",
    "          R = Float (e.g. 12.0) per annum <br/>\n",
    "          T = Integer (e.g. 3) in years\n",
    "\n",
    "<b>Output</b>: S.I = Float (e.g. 432.0)\n",
    "\n",
    "<b>Hint</b> : Use formula  S.I = PxRxT/100     and create a function for SI. "
   ]
  },
  {
   "cell_type": "code",
   "execution_count": 1,
   "metadata": {
    "collapsed": true
   },
   "outputs": [],
   "source": [
    "def simpleInterest(p,r,t):\n",
    "    return p*r*t/100"
   ]
  },
  {
   "cell_type": "code",
   "execution_count": 2,
   "metadata": {
    "collapsed": true
   },
   "outputs": [],
   "source": [
    "p=1200\n",
    "r=12.0\n",
    "t=3\n",
    "simple_interest = simpleInterest(p,r,t)"
   ]
  },
  {
   "cell_type": "code",
   "execution_count": 4,
   "metadata": {
    "collapsed": false
   },
   "outputs": [
    {
     "data": {
      "text/plain": [
       "432.0"
      ]
     },
     "execution_count": 4,
     "metadata": {},
     "output_type": "execute_result"
    }
   ],
   "source": [
    "simple_interest"
   ]
  }
 ],
 "metadata": {
  "kernelspec": {
   "display_name": "Python 3",
   "language": "python",
   "name": "python3"
  },
  "language_info": {
   "codemirror_mode": {
    "name": "ipython",
    "version": 3
   },
   "file_extension": ".py",
   "mimetype": "text/x-python",
   "name": "python",
   "nbconvert_exporter": "python",
   "pygments_lexer": "ipython3",
   "version": "3.6.0"
  }
 },
 "nbformat": 4,
 "nbformat_minor": 2
}
